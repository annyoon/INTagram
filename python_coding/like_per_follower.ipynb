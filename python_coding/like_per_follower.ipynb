{
 "cells": [
  {
   "cell_type": "code",
   "execution_count": 2,
   "metadata": {},
   "outputs": [],
   "source": [
    "import pandas as pd\n",
    "import numpy as np\n",
    "from datetime import datetime\n"
   ]
  },
  {
   "cell_type": "code",
   "execution_count": 3,
   "metadata": {},
   "outputs": [],
   "source": [
    "#임시 데이터 가져오기.\n",
    "df = pd.read_csv('210127company_post_1차_데이터분석.csv',engine='python')"
   ]
  },
  {
   "cell_type": "code",
   "execution_count": 4,
   "metadata": {
    "scrolled": true
   },
   "outputs": [],
   "source": [
    "#날짜 전처리\n",
    "df['date'] = pd.to_datetime(df['date'],format='%Y년 %m월 %d일')\n",
    "\n",
    "\n",
    "df['년'] = df['date'].dt.year\n",
    "df['월'] = df['date'].dt.month\n",
    "\n",
    "df['days'] = df['date'].dt.dayofyear\n",
    "\n",
    "#좋아요를 ,제거하고 int형식으로 바꾸기\n",
    "df['likes'] = df.likes.str.replace(',', '').astype('int64')\n",
    "\n",
    "\n",
    "year = df['년'].max()\n",
    "#최신년과 그 이전년도 12월 데이터만 다룸.\n",
    "recent_year = df[(df['년'] == df['년'].max()) | ( (df['년'] == df['년'].max() -1) & (df['월'] == 12))]\n",
    "# 전년도 는 1월~ 11월 지워지고 12월만 남음.\n",
    "#최신년도와 전년도 12월만 남음\n",
    "#recent_year"
   ]
  },
  {
   "cell_type": "code",
   "execution_count": 5,
   "metadata": {},
   "outputs": [],
   "source": [
    "#한사람의 계정이니까 예시로 congzzi_의 게시물만 이용.(임시)\n",
    "\n",
    "recent_year = recent_year[recent_year['id'] == 'congzzi_']\n",
    "# recent_year"
   ]
  },
  {
   "cell_type": "code",
   "execution_count": 6,
   "metadata": {},
   "outputs": [],
   "source": [
    "#id별로 최신글이제일 윗쪽에 위치하게끔 정렬하기. + 그룹의 상위 첫번째 값을 가져오기 = 최신값을 가져오기\n",
    "#id별 최신 게시글이 해당됨.\n",
    "\n",
    "df2 = recent_year.sort_values(by=[\"id\", \"년\", \"days\"], ascending=[True, False, False]).head(1)\n",
    "\n",
    "df2 = df2[['id','days']]\n",
    "df2\n"
   ]
  },
  {
   "cell_type": "code",
   "execution_count": 7,
   "metadata": {},
   "outputs": [],
   "source": [
    "join = pd.merge(recent_year,df2, on=\"id\")\n",
    "# join"
   ]
  },
  {
   "cell_type": "code",
   "execution_count": 8,
   "metadata": {
    "scrolled": true
   },
   "outputs": [],
   "source": [
    "#최근 30일이라서 나중에 30으로 바꾸면 됨. 335는 1월과 12월 비교할때 사용.\n",
    "#근데 만약 2020 7월 게시글과 2021 7월 게시글이 동시에 존재한다면? ->이미 전년도 7월 데이터는 없다.\n",
    "recent_30 = join[((join['days_y'] - join['days_x'] > 0 ) & (join['days_y'] - join['days_x'] < 5)) | (join['days_x'] - join['days_y'] > 335)]\n",
    "\n",
    "#최근 30일간의 게시글 데이터\n",
    "# recent_30\n",
    "\n"
   ]
  },
  {
   "cell_type": "code",
   "execution_count": 9,
   "metadata": {},
   "outputs": [],
   "source": [
    "#그룹별 좋아요 평균을 id순서대로 위치시킨다.\n",
    "\n",
    "recent_30_like_mean = recent_30['likes'].mean()\n",
    "\n",
    "# recent_30_like_mean"
   ]
  },
  {
   "cell_type": "code",
   "execution_count": 11,
   "metadata": {},
   "outputs": [],
   "source": [
    "#좋아요 평균을 팔로우 평균으로 나누기.아래는 임시로 값 지정\n",
    "follower = 3000\n",
    "like_per_follower = recent_30_like_mean/follower\n",
    "\n",
    "# like_per_follower"
   ]
  },
  {
   "cell_type": "code",
   "execution_count": null,
   "metadata": {},
   "outputs": [],
   "source": []
  }
 ],
 "metadata": {
  "kernelspec": {
   "display_name": "Python 3",
   "language": "python",
   "name": "python3"
  },
  "language_info": {
   "codemirror_mode": {
    "name": "ipython",
    "version": 3
   },
   "file_extension": ".py",
   "mimetype": "text/x-python",
   "name": "python",
   "nbconvert_exporter": "python",
   "pygments_lexer": "ipython3",
   "version": "3.9.0"
  }
 },
 "nbformat": 4,
 "nbformat_minor": 4
}
