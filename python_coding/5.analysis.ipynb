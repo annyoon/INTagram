{
 "cells": [
  {
   "cell_type": "code",
   "execution_count": 2,
   "metadata": {},
   "outputs": [],
   "source": [
    "import pandas as pd\n",
    "import numpy as np\n",
    "from datetime import datetime\n"
   ]
  },
  {
   "cell_type": "code",
   "execution_count": 3,
   "metadata": {},
   "outputs": [],
   "source": [
    "#임시 데이터 가져오기.\n",
    "df = pd.read_csv('210127company_post_1차_데이터분석.csv',engine='python')"
   ]
  },
  {
   "cell_type": "code",
   "execution_count": 4,
   "metadata": {
    "scrolled": true
   },
   "outputs": [],
   "source": [
    "#날짜 전처리\n",
    "df['date'] = pd.to_datetime(df['date'],format='%Y년 %m월 %d일')\n",
    "\n",
    "\n",
    "df['년'] = df['date'].dt.year\n",
    "df['월'] = df['date'].dt.month\n",
    "\n",
    "df['days'] = df['date'].dt.dayofyear\n",
    "\n",
    "#좋아요를 ,제거하고 int형식으로 바꾸기\n",
    "df['likes'] = df.likes.str.replace(',', '').astype('int64')\n",
    "\n",
    "\n",
    "year = df['년'].max()\n",
    "#최신년과 그 이전년도 12월 데이터만 다룸.\n",
    "recent_year = df[(df['년'] == df['년'].max()) | ( (df['년'] == df['년'].max() -1) & (df['월'] == 12))]\n",
    "# 전년도 는 1월~ 11월 지워지고 12월만 남음.\n",
    "#최신년도와 전년도 12월만 남음\n",
    "#recent_year"
   ]
  },
  {
   "cell_type": "code",
   "execution_count": 5,
   "metadata": {},
   "outputs": [],
   "source": [
    "#한사람의 계정이니까 예시로 congzzi_의 게시물만 이용.(임시)\n",
    "\n",
    "recent_year = recent_year[recent_year['id'] == 'congzzi_']\n",
    "# recent_year"
   ]
  },
  {
   "cell_type": "code",
   "execution_count": 6,
   "metadata": {},
   "outputs": [],
   "source": [
    "#id별로 최신글이제일 윗쪽에 위치하게끔 정렬하기. + 그룹의 상위 첫번째 값을 가져오기 = 최신값을 가져오기\n",
    "#id별 최신 게시글이 해당됨.\n",
    "\n",
    "df2 = recent_year.sort_values(by=[\"id\", \"년\", \"days\"], ascending=[True, False, False]).head(1)\n",
    "\n",
    "df2 = df2[['id','days']]\n",
    "df2\n"
   ]
  },
  {
   "cell_type": "code",
   "execution_count": 7,
   "metadata": {},
   "outputs": [],
   "source": [
    "join = pd.merge(recent_year,df2, on=\"id\")\n",
    "# join"
   ]
  },
  {
   "cell_type": "code",
   "execution_count": 8,
   "metadata": {
    "scrolled": true
   },
   "outputs": [],
   "source": [
    "#최근 30일이라서 나중에 30으로 바꾸면 됨. 335는 1월과 12월 비교할때 사용.\n",
    "#근데 만약 2020 7월 게시글과 2021 7월 게시글이 동시에 존재한다면? ->이미 전년도 7월 데이터는 없다.\n",
    "recent_30 = join[((join['days_y'] - join['days_x'] > 0 ) & (join['days_y'] - join['days_x'] < 5)) | (join['days_x'] - join['days_y'] > 335)]\n",
    "\n",
    "#최근 30일간의 게시글 데이터\n",
    "# recent_30\n",
    "\n"
   ]
  },
  {
   "cell_type": "code",
   "execution_count": 9,
   "metadata": {},
   "outputs": [],
   "source": [
    "#그룹별 좋아요 평균을 id순서대로 위치시킨다.\n",
    "\n",
    "recent_30_like_mean = recent_30['likes'].mean()\n",
    "\n",
    "# recent_30_like_mean"
   ]
  },
  {
   "cell_type": "code",
   "execution_count": 11,
   "metadata": {},
   "outputs": [],
   "source": [
    "#좋아요 평균을 팔로우 평균으로 나누기.아래는 임시로 값 지정\n",
    "follower = 3000\n",
    "like_per_follower = recent_30_like_mean/follower\n",
    "\n",
    "# like_per_follower"
   ]
  },
  {
   "cell_type": "code",
   "execution_count": null,
   "metadata": {},
   "outputs": [],
   "source": [
    "import pandas as pd\n",
    "from datetime import datetime"
   ]
  },
  {
   "cell_type": "code",
   "execution_count": null,
   "metadata": {},
   "outputs": [],
   "source": [
    "\n",
    "#날짜별 차이\n",
    "\n",
    "df = pd.read_csv('C:/Users/Nahyun/JupyterFiles/210127company_post_1_.csv', encoding = \"cp949\")\n",
    "#날짜 전처리\n",
    "df['date'] = pd.to_datetime(df['date'],format='%Y년 %m월 %d일')\n",
    "df['년'] = df['date'].dt.year\n",
    "df['월'] = df['date'].dt.month\n",
    "df['days'] = df['date'].dt.dayofyear\n",
    "year = df['년'].max()\n",
    "#최신년과 그 이전년도 12월 데이터만 다룸.\n",
    "recent_year = df[(df['년'] == df['년'].max()) | ( (df['년'] == df['년'].max() -1) & (df['월'] == 12))]\n",
    "df_fra = recent_year.sort_values(by=[\"id\",\"년\", \"days\"], ascending=[True, False, False])\n",
    "#id 오름차순 \n",
    "#days 내림차순\n",
    "df_fra = df2[['no','id','location','tags','contents','date','likes']]\n",
    "df_fra"
   ]
  },
  {
   "cell_type": "code",
   "execution_count": null,
   "metadata": {},
   "outputs": [],
   "source": [
    "import pandas as pd"
   ]
  },
  {
   "cell_type": "code",
   "execution_count": null,
   "metadata": {},
   "outputs": [],
   "source": [
    "#판매글/일상글 구분하는 파이썬 코드\n",
    "\n",
    "df = pd.read_csv('C:/Users/joanl/산학연계 프로젝트/R분석/210127company_post_1_.csv', encoding = \"cp949\")\n",
    "#\"일상\"이라는 단어가 들어가있는 행들 뽑기\n",
    "df_bool = df['contents'].str.contains(\"일상\")\n",
    "df_concat = pd.concat([df, df_bool], axis = 1)\n",
    "df_concat.columns = ['no', 'url', 'id', 'location', 'tags', 'contents', 'date', 'likes', 'daily']\n",
    "#df_concat       \n",
    "df_daily = df_concat[df_concat['daily'] == True]\n",
    "#'일상' 단어가 없는 경우 = 판매글 이라고 판단하겠음\n",
    "df_selling = df_concat[df_concat['daily'] == False]\n",
    "#df_daily_sell = df_daily[df_daily['contents'].isin(target)]\n",
    "#일상글 중 판매글인 경우 찾기\n",
    "df_daily_sell = df_daily[(df_daily['contents'].str.contains(\"문의\"))\n",
    "                        | (df_daily['contents'].str.contains(\"이벤트\"))\n",
    "                        | (df_daily['contents'].str.contains(\"주문\"))\n",
    "                        | (df_daily['contents'].str.contains(\"공구\"))\n",
    "                        | (df_daily['contents'].str.contains(\"협찬\"))\n",
    "                        | (df_daily['contents'].str.contains(\"판매\"))\n",
    "                        | (df_daily['contents'].str.contains(\"마켓\"))\n",
    "                        | (df_daily['contents'].str.contains(\"블로그\"))\n",
    "                        | (df_daily['contents'].str.contains(\"링크\"))\n",
    "                        | (df_daily['contents'].str.contains(\"세일\"))\n",
    "                        | (df_daily['contents'].str.contains(\"할인\"))\n",
    "                        | (df_daily['contents'].str.contains(\"카톡\"))\n",
    "                        | (df_daily['contents'].str.contains(\"카카오톡\"))\n",
    "                        | (df_daily['contents'].str.contains(\"구매\"))\n",
    "                        | (df_daily['contents'].str.contains(\"구입\"))\n",
    "                        | (df_daily['contents'].str.contains(\"다이렉트\"))\n",
    "                        | (df_daily['contents'].str.contains(\"택배\"))\n",
    "                        | (df_daily['contents'].str.contains(\"배송\"))\n",
    "                        | (df_daily['contents'].str.contains(\"제품\"))\n",
    "                        | (df_daily['contents'].str.contains(\"상품\"))\n",
    "                        | (df_daily['contents'].str.contains(\"스토어\"))\n",
    "                        | (df_daily['contents'].str.contains(\"상점\"))\n",
    "                        | (df_daily['contents'].str.contains(\"입금\"))\n",
    "                        | (df_daily['contents'].str.contains(\"플랫폼\"))\n",
    "                        | (df_daily['contents'].str.contains(\"DM\"))\n",
    "                        | (df_daily['contents'].str.contains(\"디엠\"))\n",
    "                        | (df_daily['contents'].str.contains(\"가격\"))\n",
    "                        | (df_daily['contents'].str.contains(\"오픈\"))\n",
    "                        | (df_daily['contents'].str.contains(\"kakaotalk\"))\n",
    "                        | (df_daily['contents'].str.contains(\"shop\"))\n",
    "                        | (df_daily['contents'].str.contains(\"쇼핑몰\"))\n",
    "                        | (df_daily['contents'].str.contains(\"샵\"))\n",
    "                        | (df_daily['contents'].str.contains(\"open\")) ]\n",
    "#print(df_daily_sell) # 일상글이면서 판대글인 애들 = 판매글\n",
    "#print(df_daily)\n",
    "df_join = pd.merge(df_daily, df_daily_sell, how = 'left', on = ['no', 'url', 'id', 'location', 'tags', \n",
    "                                                                'contents', 'date', 'likes'])\n",
    "#온전히 일상글인 목록\n",
    "df_daily = df_join[df_join['daily_y'].isnull()]\n",
    "df_daily = df_daily.drop('daily_x', axis = 1)\n",
    "print(df_daily)\n",
    "df_selling_total = pd.concat([df_selling, df_daily_sell]) #판매글 전체 목록\n",
    "df_selling_total\n",
    "#df_selling_total_sort = df_selling_total.sort_values(by = 'id') 여러명인 경우에 사용. 한사람이면 사용X\n",
    "#df_selling_total_sort #daily = True인 행들은 일상글이면서 판매글인 경우"
   ]
  }
 ],
 "metadata": {
  "kernelspec": {
   "display_name": "Python 3",
   "language": "python",
   "name": "python3"
  },
  "language_info": {
   "codemirror_mode": {
    "name": "ipython",
    "version": 3
   },
   "file_extension": ".py",
   "mimetype": "text/x-python",
   "name": "python",
   "nbconvert_exporter": "python",
   "pygments_lexer": "ipython3",
   "version": "3.9.0"
  }
 },
 "nbformat": 4,
 "nbformat_minor": 4
}
