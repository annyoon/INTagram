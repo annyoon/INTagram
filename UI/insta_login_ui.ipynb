{
 "cells": [
  {
   "cell_type": "code",
   "execution_count": 1,
   "metadata": {},
   "outputs": [
    {
     "ename": "SystemExit",
     "evalue": "0",
     "output_type": "error",
     "traceback": [
      "An exception has occurred, use %tb to see the full traceback.\n",
      "\u001b[1;31mSystemExit\u001b[0m\u001b[1;31m:\u001b[0m 0\n"
     ]
    },
    {
     "name": "stderr",
     "output_type": "stream",
     "text": [
      "C:\\Anaconda3\\lib\\site-packages\\IPython\\core\\interactiveshell.py:3339: UserWarning: To exit: use 'exit', 'quit', or Ctrl-D.\n",
      "  warn(\"To exit: use 'exit', 'quit', or Ctrl-D.\", stacklevel=1)\n"
     ]
    }
   ],
   "source": [
    "# -*- coding: utf-8 -*-\n",
    "\n",
    "# Form implementation generated from reading ui file 'insta_login.ui'\n",
    "#\n",
    "# Created by: PyQt5 UI code generator 5.13.0\n",
    "#\n",
    "# WARNING! All changes made in this file will be lost!\n",
    "\n",
    "import sys\n",
    "from PyQt5.QtWidgets import *\n",
    "from PyQt5 import uic\n",
    "from PyQt5.QtGui import *\n",
    "from PyQt5 import *\n",
    "\n",
    "form_class = uic.loadUiType(\"insta_login.ui\")[0]\n",
    "\n",
    "class Ui_MainWindow(QMainWindow, form_class):\n",
    "    \n",
    "    def __init__(self) :\n",
    "        super().__init__()\n",
    "        \n",
    "        #윈도우 창 이름(과 아이콘)\n",
    "        #self.setWindowTitle(\"sns(인스타그램) 신용 평가 프로그램\")\n",
    "        #self.setWindowIcon(QIcon(\"icon.png\"))\n",
    "        \n",
    "        self.setupUi(self)\n",
    "        \n",
    "    #생략가능하지만 수정이 필요할 때 이름을 알아야되서 지우지 않았다.    \n",
    "    def setupUi(self, MainWindow):\n",
    "        MainWindow.setObjectName(\"MainWindow\")\n",
    "        MainWindow.resize(407, 254)\n",
    "        self.centralwidget = QtWidgets.QWidget(MainWindow)\n",
    "        self.centralwidget.setObjectName(\"centralwidget\")\n",
    "        self.login_btn = QtWidgets.QPushButton(self.centralwidget)\n",
    "        self.login_btn.setGeometry(QtCore.QRect(250, 90, 91, 71))\n",
    "        self.login_btn.setObjectName(\"login_btn\")\n",
    "        self.Name = QtWidgets.QLabel(self.centralwidget)\n",
    "        self.Name.setGeometry(QtCore.QRect(70, 10, 291, 61))\n",
    "        self.Name.setObjectName(\"Name\")\n",
    "        self.id = QtWidgets.QLabel(self.centralwidget)\n",
    "        self.id.setGeometry(QtCore.QRect(70, 100, 21, 16))\n",
    "        self.id.setObjectName(\"id\")\n",
    "        self.pw = QtWidgets.QLabel(self.centralwidget)\n",
    "        self.pw.setGeometry(QtCore.QRect(20, 130, 71, 20))\n",
    "        self.pw.setObjectName(\"pw\")\n",
    "        self.input_id = QtWidgets.QLineEdit(self.centralwidget)\n",
    "        self.input_id.setGeometry(QtCore.QRect(110, 100, 113, 21))\n",
    "        self.input_id.setObjectName(\"input_id\")\n",
    "        self.input_pw = QtWidgets.QLineEdit(self.centralwidget)\n",
    "        self.input_pw.setGeometry(QtCore.QRect(110, 130, 113, 21))\n",
    "        self.input_pw.setObjectName(\"input_pw\")\n",
    "        MainWindow.setCentralWidget(self.centralwidget)\n",
    "        self.menubar = QtWidgets.QMenuBar(MainWindow)\n",
    "        self.menubar.setGeometry(QtCore.QRect(0, 0, 407, 26))\n",
    "        self.menubar.setObjectName(\"menubar\")\n",
    "        MainWindow.setMenuBar(self.menubar)\n",
    "        self.statusbar = QtWidgets.QStatusBar(MainWindow)\n",
    "        self.statusbar.setObjectName(\"statusbar\")\n",
    "        MainWindow.setStatusBar(self.statusbar)\n",
    "        \n",
    "        \n",
    "        #글씨크기 변경\n",
    "        self.Name.setFont(QtGui.QFont(\"굴림\",20))\n",
    "        self.Name.setStyleSheet(\"Color : green\")\n",
    "        \n",
    "        self.retranslateUi(MainWindow)\n",
    "        QtCore.QMetaObject.connectSlotsByName(MainWindow)\n",
    "\n",
    "    def retranslateUi(self, MainWindow):\n",
    "        _translate = QtCore.QCoreApplication.translate\n",
    "        MainWindow.setWindowTitle(_translate(\"MainWindow\", \"sns 신용 평가 프로그램\"))\n",
    "        self.login_btn.setText(_translate(\"MainWindow\", \"로그인\"))\n",
    "        self.Name.setText(_translate(\"MainWindow\", \"Instagram Login\"))\n",
    "        self.id.setText(_translate(\"MainWindow\", \"id\"))\n",
    "        self.pw.setText(_translate(\"MainWindow\", \"password\"))\n",
    "        \n",
    "if __name__ == \"__main__\":\n",
    "    import sys\n",
    "    app = QtWidgets.QApplication(sys.argv)\n",
    "    MainWindow = QtWidgets.QMainWindow()\n",
    "    ui = Ui_MainWindow()\n",
    "    ui.setupUi(MainWindow)\n",
    "    MainWindow.show()\n",
    "    sys.exit(app.exec_())\n"
   ]
  },
  {
   "cell_type": "code",
   "execution_count": null,
   "metadata": {},
   "outputs": [],
   "source": []
  },
  {
   "cell_type": "code",
   "execution_count": null,
   "metadata": {},
   "outputs": [],
   "source": []
  }
 ],
 "metadata": {
  "kernelspec": {
   "display_name": "Python 3",
   "language": "python",
   "name": "python3"
  }
 },
 "nbformat": 4,
 "nbformat_minor": 4
}
