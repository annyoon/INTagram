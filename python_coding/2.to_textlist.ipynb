{
 "cells": [
  {
   "cell_type": "code",
   "execution_count": null,
   "metadata": {},
   "outputs": [],
   "source": [
    "import glob\n",
    "import os\n",
    "#path = os.path.dirname(os.path.realpath(__file__))\n",
    "#os.chdir(path)\n",
    "path = \"C:/users/joanl/산학연계 프로젝트/text\"\n",
    "if os.path.exists(\"8percent_text_all.txt\"):\n",
    "    os.remove(\"8percent_text_all.txt\")\n",
    "else:\n",
    "    print(\"The file does not exist\")\n",
    "read_files = glob.glob(\"*.txt\")\n",
    "print(read_files)\n",
    "with open(\"8percent_text_all.txt\", \"wb\") as outfile:\n",
    "    for f in read_files:\n",
    "        #i = 0\n",
    "        #line = \"***********\" + f + \"***********\" + \"\\n\\n\"\n",
    "        #i += 1\n",
    "        #outfile.write(line.encode('utf-8'))\n",
    "        with open(f, \"rb\") as infile:\n",
    "            outfile.write(infile.read())\n",
    "      "
   ]
  },
  {
   "cell_type": "code",
   "execution_count": null,
   "metadata": {},
   "outputs": [],
   "source": [
    "f = open(\"C:/users/joanl/산학연계 프로젝트/text/8percent_text_all.txt\", 'r')\n",
    "lines = f.readlines()\n",
    "companySet = set(lines)\n",
    "f.close()\n",
    "# 메모장에 저장\n",
    "f = open(\"C:/users/joanl/산학연계 프로젝트/text/8percent_text_nosame.txt\", 'w')\n",
    "for account in companySet:\n",
    "    data = account\n",
    "    f.write(data)\n",
    "f.close()\n",
    "print(len(companySet))"
   ]
  }
 ],
 "metadata": {
  "kernelspec": {
   "display_name": "Python 3",
   "language": "python",
   "name": "python3"
  },
  "language_info": {
   "codemirror_mode": {
    "name": "ipython",
    "version": 3
   },
   "file_extension": ".py",
   "mimetype": "text/x-python",
   "name": "python",
   "nbconvert_exporter": "python",
   "pygments_lexer": "ipython3",
   "version": "3.9.0"
  }
 },
 "nbformat": 4,
 "nbformat_minor": 4
}
